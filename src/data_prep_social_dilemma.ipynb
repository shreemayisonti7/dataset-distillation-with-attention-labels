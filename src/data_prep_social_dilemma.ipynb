{
 "cells": [
  {
   "cell_type": "code",
   "execution_count": 1,
   "id": "c50122ad",
   "metadata": {},
   "outputs": [],
   "source": [
    "import pandas as pd\n",
    "\n",
    "df = pd.read_csv('./../data/TheSocialDilemma.csv', usecols=['text', 'Sentiment'])\n",
    "print(df.head())\n",
    "\n",
    "neutral_prop = 1\n",
    "positive_prop = 1\n",
    "negative_prop = 1\n",
    "\n",
    "neutral_df = df[df['Sentiment'] == 'Neutral'].sample(frac=neutral_prop)\n",
    "positive_df = df[df['Sentiment'] == 'Positive'].sample(frac=positive_prop)\n",
    "negative_df = df[df['Sentiment'] == 'Negative'].sample(frac=negative_prop)\n",
    "\n",
    "# Combine the sampled dataframes\n",
    "sampled_df = pd.concat([neutral_df, positive_df, negative_df])\n",
    "sampled_df = sampled_df.sample(frac=1).reset_index()\n",
    "\n",
    "print(sampled_df['Sentiment'].value_counts())\n",
    "sampled_df.to_csv('./../data/full_sd.csv')"
   ]
  },
  {
   "cell_type": "code",
   "execution_count": 2,
   "id": "e3608a90",
   "metadata": {},
   "outputs": [
    {
     "data": {
      "application/vnd.jupyter.widget-view+json": {
       "model_id": "",
       "version_major": 2,
       "version_minor": 0
      },
      "text/plain": [
       "Downloading data files:   0%|          | 0/2 [00:00<?, ?it/s]"
      ]
     },
     "metadata": {},
     "output_type": "display_data"
    },
    {
     "data": {
      "application/vnd.jupyter.widget-view+json": {
       "model_id": "",
       "version_major": 2,
       "version_minor": 0
      },
      "text/plain": [
       "Extracting data files:   0%|          | 0/2 [00:00<?, ?it/s]"
      ]
     },
     "metadata": {},
     "output_type": "display_data"
    },
    {
     "data": {
      "application/vnd.jupyter.widget-view+json": {
       "model_id": "",
       "version_major": 2,
       "version_minor": 0
      },
      "text/plain": [
       "Generating train split: 0 examples [00:00, ? examples/s]"
      ]
     },
     "metadata": {},
     "output_type": "display_data"
    },
    {
     "data": {
      "application/vnd.jupyter.widget-view+json": {
       "model_id": "",
       "version_major": 2,
       "version_minor": 0
      },
      "text/plain": [
       "Generating validation split: 0 examples [00:00, ? examples/s]"
      ]
     },
     "metadata": {},
     "output_type": "display_data"
    },
    {
     "data": {
      "text/plain": [
       "Dataset({\n",
       "    features: ['Unnamed: 0', 'index', 'text', 'label'],\n",
       "    num_rows: 14048\n",
       "})"
      ]
     },
     "execution_count": 2,
     "metadata": {},
     "output_type": "execute_result"
    }
   ],
   "source": [
    "from datasets import load_dataset\n",
    "\n",
    "train_dataset=load_dataset('csv', data_files='./../data/full_sd.csv', \n",
    "                           split='train[:70%]')\n",
    "val_dataset=load_dataset('csv', data_files='./../data/full_sd.csv', \n",
    "                           split='train[70%:]')\n",
    "print(train_dataset, val_dataset)\n",
    "\n",
    "train_dataset = train_dataset.rename_column(\"Sentiment\", \"label\")\n",
    "val_dataset = val_dataset.rename_column(\"Sentiment\", \"label\")\n",
    "print(train_dataset, val_dataset)\n",
    "\n",
    "train_dataset.to_json(f\"./../data/sd/full_train.jsonl\")\n",
    "val_dataset.to_json(f\"./../data/sd/full_validation.jsonl\")\n",
    "\n",
    "print(\"json files saved...\")"
   ]
  },
  {
   "cell_type": "code",
   "execution_count": 1,
   "id": "60cc587b",
   "metadata": {},
   "outputs": [
    {
     "name": "stdout",
     "output_type": "stream",
     "text": [
      "Dataset({\n",
      "    features: ['Unnamed: 0', 'index', 'text', 'label'],\n",
      "    num_rows: 14048\n",
      "})\n",
      "Dataset({\n",
      "    features: ['Unnamed: 0', 'index', 'text', 'label'],\n",
      "    num_rows: 6020\n",
      "})\n"
     ]
    }
   ],
   "source": [
    "from datasets import load_dataset\n",
    "dataset = load_dataset(\"json\", data_files={\n",
    "        \"train\": f\"./../data/sd/full_train.jsonl\",\n",
    "        \"validation\": f\"./../data/sd/full_validation.jsonl\"})\n",
    "print(dataset['train'])\n",
    "\n",
    "print(dataset['validation'])"
   ]
  }
 ],
 "metadata": {
  "kernelspec": {
   "display_name": "Python 3 (ipykernel)",
   "language": "python",
   "name": "python3"
  },
  "language_info": {
   "codemirror_mode": {
    "name": "ipython",
    "version": 3
   },
   "file_extension": ".py",
   "mimetype": "text/x-python",
   "name": "python",
   "nbconvert_exporter": "python",
   "pygments_lexer": "ipython3",
   "version": "3.9.13"
  }
 },
 "nbformat": 4,
 "nbformat_minor": 5
}
